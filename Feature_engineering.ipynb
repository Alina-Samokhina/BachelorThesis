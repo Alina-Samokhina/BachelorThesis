{
 "cells": [
  {
   "cell_type": "markdown",
   "metadata": {},
   "source": [
    "# Thesis "
   ]
  },
  {
   "cell_type": "code",
   "execution_count": 1,
   "metadata": {},
   "outputs": [
    {
     "name": "stdout",
     "output_type": "stream",
     "text": [
      "importing Jupyter notebook from Auxillary_functions.ipynb\n"
     ]
    }
   ],
   "source": [
    "import import_ipynb\n",
    "from Auxillary_functions import *\n",
    "import ECoG"
   ]
  },
  {
   "cell_type": "markdown",
   "metadata": {},
   "source": [
    "### Данные "
   ]
  },
  {
   "cell_type": "markdown",
   "metadata": {},
   "source": [
    "Будем рассматривать в качестве выборок несоклько вариантов разбиения данных.\n",
    "Первый случай: данные об одной обезьяне, снятые в разные дни. Ведь в идеале хочется достичь результата, при котором модель, построенная один раз, работала ,бы для последующих экспериментов.\n",
    "Второй случай: стандартное разбиение одной выборки на train/test. \n",
    "\n",
    "Рассматриваем subdural ECoG for monkey K from 27.05.2009"
   ]
  },
  {
   "cell_type": "code",
   "execution_count": 2,
   "metadata": {},
   "outputs": [],
   "source": [
    "centers = [(4,1), (6, 1), (8,1),\\\n",
    "           (3, 2), (5, 2), (7,2),\\\n",
    "           (2, 3), (4, 3), (6, 3), (8,3),\\\n",
    "           (1, 4), (3, 4), (5, 4), (7, 4),\\\n",
    "           (2, 5), (4, 5), (6, 5), \\\n",
    "           (1, 6), (3, 6), (5, 6), (7, 6),\\\n",
    "           (2, 7), (4, 7), (6, 7), (8, 7),\\\n",
    "           (1, 8), (3, 8), (5, 8), (7, 8),\\\n",
    "           (2, 9), (4, 9), (6, 9), (8, 9),\\\n",
    "           (1, 10), (3, 10), (5, 10), (7, 10),\\\n",
    "           (2, 11), (4, 11), (6, 11), (8, 11),\\\n",
    "           (1, 12), (3, 12), (5, 12), (7, 12),\\\n",
    "           (2, 13), (4, 13), (6, 13), (8, 13),\\\n",
    "           (1, 14), (3, 14), (5, 14), (7, 14),\\\n",
    "           (2, 15), (4, 15), (6, 15), (8, 15),\\\n",
    "           (1, 16), (3, 16), (5, 16), (7, 16),\\\n",
    "           (2, 17), (4, 17), (6, 17)]"
   ]
  },
  {
   "cell_type": "markdown",
   "metadata": {},
   "source": [
    "### Raw ECoG "
   ]
  },
  {
   "cell_type": "code",
   "execution_count": 3,
   "metadata": {
    "scrolled": true
   },
   "outputs": [],
   "source": [
    "x,y = ECoG.read_ECoG_from_csv(\"ECoG.csv\",\"Motion.csv\")\n",
    "data = ECoG.ECoG(x,y,downsample = True)"
   ]
  },
  {
   "cell_type": "markdown",
   "metadata": {},
   "source": [
    "### TsFresh"
   ]
  },
  {
   "cell_type": "code",
   "execution_count": 4,
   "metadata": {},
   "outputs": [],
   "source": [
    "from tsfresh import extract_features\n",
    "#extracted_features = extract_features(timeseries, column_id=\"id\", column_sort=\"time\")"
   ]
  },
  {
   "cell_type": "code",
   "execution_count": 5,
   "metadata": {},
   "outputs": [],
   "source": [
    "from tsfresh import select_features\n",
    "from tsfresh.utilities.dataframe_functions import impute\n",
    "\n",
    "#impute(extracted_features)\n",
    "#features_filtered = select_features(extracted_features, y)"
   ]
  },
  {
   "cell_type": "code",
   "execution_count": 4,
   "metadata": {},
   "outputs": [],
   "source": [
    "signal_data = np.array(x)\n",
    "motion_data = np.array(y)"
   ]
  },
  {
   "cell_type": "code",
   "execution_count": 5,
   "metadata": {},
   "outputs": [],
   "source": [
    "time, signal_idx, motion_idx = np.intersect1d(signal_data[:,0], motion_data[:,0],assume_unique=True, return_indices=True)\n",
    "ecog_signal = signal_data[signal_idx]\n",
    "motion = motion_data[motion_idx]"
   ]
  },
  {
   "cell_type": "code",
   "execution_count": 8,
   "metadata": {},
   "outputs": [
    {
     "data": {
      "text/plain": [
       "8313"
      ]
     },
     "execution_count": 8,
     "metadata": {},
     "output_type": "execute_result"
    }
   ],
   "source": [
    "len(ecog_signal[::15])"
   ]
  },
  {
   "cell_type": "code",
   "execution_count": null,
   "metadata": {},
   "outputs": [
    {
     "name": "stderr",
     "output_type": "stream",
     "text": [
      "\r",
      "Feature Extraction:   0%|                                                                       | 0/20 [00:00<?, ?it/s]"
     ]
    }
   ],
   "source": [
    "#or in one line\n",
    "from tsfresh import extract_relevant_features\n",
    "X_n = pd.DataFrame(ecog_signal[::15, 1:])\n",
    "X_n['time'] = time[::15]\n",
    "X_n['id'] = X_n.index\n",
    "motion_n = pd.Series(motion[::15,1])\n",
    "features_filtered_direct = extract_relevant_features(X_n, motion_n, column_id = 'id', column_sort = 'time')"
   ]
  },
  {
   "cell_type": "markdown",
   "metadata": {},
   "source": [
    "#### featuretools"
   ]
  },
  {
   "cell_type": "raw",
   "metadata": {},
   "source": [
    "import featuretools as ft"
   ]
  },
  {
   "cell_type": "raw",
   "metadata": {},
   "source": [
    "es = es.normalize_entity(ecog_signal)"
   ]
  },
  {
   "cell_type": "raw",
   "metadata": {},
   "source": [
    "from statsmodels.tsa.ar_model import AR\n",
    "from statsmodels.tsa.ar_model import ARResults\n",
    "from statsmodels.tsa.api import VAR"
   ]
  },
  {
   "cell_type": "raw",
   "metadata": {},
   "source": [
    "ar = AR(motion[:, 1])"
   ]
  },
  {
   "cell_type": "raw",
   "metadata": {},
   "source": [
    "ar_fit = ar.fit(maxlag = 15)"
   ]
  },
  {
   "cell_type": "raw",
   "metadata": {},
   "source": [
    "ar_fit.predict()"
   ]
  },
  {
   "cell_type": "raw",
   "metadata": {},
   "source": [
    "ARResults(ar_fit)"
   ]
  },
  {
   "cell_type": "raw",
   "metadata": {},
   "source": [
    "model = VAR(ecog_signal)"
   ]
  },
  {
   "cell_type": "raw",
   "metadata": {},
   "source": [
    "results = model.fit(7)"
   ]
  },
  {
   "cell_type": "raw",
   "metadata": {},
   "source": [
    "results.summary()"
   ]
  },
  {
   "cell_type": "code",
   "execution_count": null,
   "metadata": {},
   "outputs": [],
   "source": []
  }
 ],
 "metadata": {
  "kernelspec": {
   "display_name": "Python 3",
   "language": "python",
   "name": "python3"
  },
  "language_info": {
   "codemirror_mode": {
    "name": "ipython",
    "version": 3
   },
   "file_extension": ".py",
   "mimetype": "text/x-python",
   "name": "python",
   "nbconvert_exporter": "python",
   "pygments_lexer": "ipython3",
   "version": "3.6.5"
  }
 },
 "nbformat": 4,
 "nbformat_minor": 2
}
