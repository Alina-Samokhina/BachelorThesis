{
 "cells": [
  {
   "cell_type": "markdown",
   "metadata": {},
   "source": [
    "# Local models"
   ]
  },
  {
   "cell_type": "markdown",
   "metadata": {},
   "source": [
    "#### Libraries "
   ]
  },
  {
   "cell_type": "code",
   "execution_count": 66,
   "metadata": {},
   "outputs": [],
   "source": [
    "import numpy as np\n",
    "import os.path\n",
    "import glob\n",
    "import pandas as pd\n",
    "\n",
    "from io import BytesIO\n",
    "from sklearn.cross_decomposition import PLSRegression\n",
    "from sklearn.model_selection import train_test_split\n",
    "from scipy.io import loadmat\n",
    "from sklearn.metrics import mean_absolute_error\n",
    "\n",
    "from matplotlib import pyplot as plt\n",
    "\n",
    "from scipy.stats import multivariate_normal\n",
    "from scipy.stats import pearsonr\n",
    "\n",
    "from scipy.stats import gamma\n",
    "from scipy.stats import wishart\n",
    "\n",
    "from sklearn.preprocessing import normalize\n",
    "from sklearn.preprocessing import StandardScaler"
   ]
  },
  {
   "cell_type": "code",
   "execution_count": 39,
   "metadata": {},
   "outputs": [],
   "source": [
    "title_font = {'family':'Arial', 'size': 20, 'color':'black', 'weight':'normal',\n",
    "              'verticalalignment':'bottom'} # Bottom vertical alignment for more space\n",
    "axis_font = {'family':'Arial', 'size': 16}\n"
   ]
  },
  {
   "cell_type": "markdown",
   "metadata": {},
   "source": [
    "#### Data "
   ]
  },
  {
   "cell_type": "code",
   "execution_count": 30,
   "metadata": {},
   "outputs": [],
   "source": [
    "path_name_train = 'Data\\\\20100802S1_ECoG_Motion6'\n",
    "path_name_test = 'Data\\\\20100726S1_ECoG_Motion6'"
   ]
  },
  {
   "cell_type": "code",
   "execution_count": 32,
   "metadata": {},
   "outputs": [],
   "source": [
    "def get_ecog(dir):\n",
    "    #n_ch - number of channels\n",
    "    n_ch = len(glob.glob(os.path.join(dir, 'ECoG_ch*.mat')))\n",
    "    ECoG = []\n",
    "    for ch in range(1, n_ch + 1):\n",
    "        ECoGData = loadmat(os.path.join(dir, 'ECoG_ch%d.mat' % ch))\n",
    "        ECoGData = ECoGData['ECoGData_ch%d' % ch]\n",
    "        ECoG.append(ECoGData[0])\n",
    "\n",
    "    ECoG = np.array(ECoG)\n",
    "    \n",
    "    Time = loadmat(os.path.join(dir, 'ECoG_time.mat'))\n",
    "    Time = Time['ECoGTime']\n",
    "\n",
    "    return ECoG.T, Time.T"
   ]
  },
  {
   "cell_type": "code",
   "execution_count": 140,
   "metadata": {},
   "outputs": [],
   "source": [
    "def get_ecog_and_motions(dir):\n",
    "    n_ch = len(glob.glob(os.path.join(dir, 'ECoG_ch*.mat')))\n",
    "    ECoG = []\n",
    "    for ch in range(1, n_ch + 1):\n",
    "        ECoGData = loadmat(os.path.join(dir, 'ECoG_ch%d.mat' % ch))\n",
    "        ECoGData = ECoGData['ECoGData_ch%d' % ch]\n",
    "        ECoG.append(ECoGData[0])\n",
    "\n",
    "    ECoG = np.array(ECoG)\n",
    "\n",
    "    Motion = loadmat(os.path.join(dir, 'Motion.mat'))\n",
    "    MotionTime = Motion['MotionTime']\n",
    "    Motion = Motion['MotionData']\n",
    "        \n",
    "    LSHO = Motion[0,:]\n",
    "    LELB = Motion[1,:]\n",
    "    LWRI = Motion[2,:]\n",
    "    RSHO = Motion[3,:]\n",
    "    RELB = Motion[4,:]\n",
    "    RWRI = Motion[5,:]\n",
    "    \n",
    "    Time = loadmat(os.path.join(dir, 'ECoG_time.mat'))\n",
    "    Time = Time['ECoGTime']\n",
    "\n",
    "    return ECoG.T, LSHO[0], LELB[0], LWRI[0], RSHO[0], RELB[0], RWRI[0], Time.T, MotionTime.T"
   ]
  },
  {
   "cell_type": "code",
   "execution_count": 141,
   "metadata": {},
   "outputs": [],
   "source": [
    "def extract_needed_data(ECoG, LSHO, LELB, LWRI, RSHO, RELB, RWRI, Time, MotionTime):\n",
    "    \n",
    "    body_center = (LSHO - RSHO)/2 #It is a static point in this experiment\n",
    "    motion_left_hand = LWRI - body_center #centering motion\n",
    "    \n",
    "    return ECoG, motion_left_hand"
   ]
  },
  {
   "cell_type": "code",
   "execution_count": 142,
   "metadata": {},
   "outputs": [],
   "source": [
    "def synchronize_interpol(signal_data, motion_data): \n",
    "    start = max(signal_data[1, 0],motion_data[1,0])\n",
    "    end = min(signal_data[-1, 0],motion_data[-1,0])\n",
    "\n",
    "    #cutting signal and motion, only overlapping time left\n",
    "    signal_data = signal_data[:,:][(signal_data[:,0]>=start)]\n",
    "    signal_data = signal_data[:,:][(signal_data[:,0]<=end)]\n",
    "    motion_data = motion_data[:,:][motion_data[:,0]>= start] \n",
    "    motion_data = motion_data[:,:][motion_data[:,0]<= end]\n",
    "    M = []\n",
    "    #signal and motion have different time stamps, we need to synchronise them\n",
    "    #interpolating motion and calculating arm position in moments of \"signal time\"\n",
    "    for i in range(1,motion_data.shape[1]):\n",
    "        interpol = interp1d(motion_data[:,0],motion_data[:,i],kind=\"cubic\")\n",
    "        x = interpol(signal_data[:,0])\n",
    "        M.append(x)\n",
    "\n",
    "    #downsampling in 10 times to get faster calcultions\n",
    "\n",
    "    ecog_signal = signal_data[::10,1:]\n",
    "    motion = np.array(M).T[::10,:]\n",
    "    time = signal_data[::10,0]\n",
    "    \n",
    "    \n",
    "    #self.signal = signal_data[:,1:]\n",
    "    #self.motion = np.array(M).T[:,:]\n",
    "    #self.time = signal_data[:,0]\n",
    "\n",
    "    return ecog_signal, motion, time"
   ]
  },
  {
   "cell_type": "code",
   "execution_count": 36,
   "metadata": {
    "scrolled": true
   },
   "outputs": [],
   "source": [
    "# data for the first type of train|test split\n",
    "data_train, time_train = get_ecog(path_name_train)\n",
    "data_test, time_test = get_ecog(path_name_test)\n",
    "#df = pd.DataFrame(data)"
   ]
  },
  {
   "cell_type": "code",
   "execution_count": 37,
   "metadata": {},
   "outputs": [],
   "source": [
    "#(x,y) coordinates for channels 1-64 based on the image of places (b.png)\n",
    "#centers[i] -coordinates of the i channel\n",
    "\n",
    "centers = [(4,1), (6, 1), \\\n",
    "           (3, 2), (5, 2), (7,2),\\\n",
    "           (2,3), (4, 3), (6, 3), \\\n",
    "           (1, 4), (3, 4), (5, 4), (7, 4),\\\n",
    "           (2, 5), (4, 5), (6, 5), (8, 5),\\\n",
    "           (1, 6), (3, 6), (5, 6), (7, 6),\\\n",
    "           (2, 7), (4, 7), (6, 7), (8, 7),\\\n",
    "           (1, 8), (3, 8), (5, 8), (7, 8),\\\n",
    "           (2, 9), (4, 9), (6, 9), (8, 9),\\\n",
    "           (1, 10), (3, 10), (5, 10), (7, 10),\\\n",
    "           (2, 11), (4, 11), (6, 11), (8, 11),\\\n",
    "           (1, 12), (3, 12), (5, 12), (7, 12),\\\n",
    "           (2, 13), (4, 13), (6, 13), (8, 13),\\\n",
    "           (1, 14), (3, 14), (5, 14), (7, 14),\\\n",
    "           (2, 15), (4, 15), (6, 15), (8, 15),\\\n",
    "           (1, 16), (3, 16), (5, 16), (7, 16),\\\n",
    "           (2, 17), (4, 17), (6, 17), (8, 17)]"
   ]
  },
  {
   "cell_type": "markdown",
   "metadata": {},
   "source": [
    "### Raw ECoG "
   ]
  },
  {
   "cell_type": "code",
   "execution_count": 40,
   "metadata": {},
   "outputs": [
    {
     "data": {
      "image/png": "[encoded data removed]",
      "text/plain": [
       "<Figure size 1008x432 with 1 Axes>"
      ]
     },
     "metadata": {},
     "output_type": "display_data"
    }
   ],
   "source": [
    "plt.figure(figsize=(14,6))\n",
    "plt.plot(time_train, data_train[:,0])\n",
    "plt.xticks( fontsize=14, rotation=0)\n",
    "plt.yticks(fontsize=14, rotation=0)\n",
    "plt.title('ECoG channel #1', **title_font)\n",
    "plt.xlabel('time, ms', **axis_font)\n",
    "plt.ylabel('Voltage, mV', **axis_font)\n",
    "plt.grid(True)\n",
    "plt.show()\n",
    "plt.close()"
   ]
  },
  {
   "cell_type": "code",
   "execution_count": 41,
   "metadata": {},
   "outputs": [],
   "source": [
    "data = data_train\n",
    "time = time_train"
   ]
  },
  {
   "cell_type": "code",
   "execution_count": 42,
   "metadata": {},
   "outputs": [],
   "source": [
    "# number of values taken for observation\n",
    "N = 100000"
   ]
  },
  {
   "cell_type": "markdown",
   "metadata": {},
   "source": [
    "#### Gauss hypothesis"
   ]
  },
  {
   "cell_type": "markdown",
   "metadata": {},
   "source": [
    "Определяем функции, которые находят среднее, дисперсию и функцию, которая получает нормировочную константу интенсивности в зависимости от найденного среднего"
   ]
  },
  {
   "cell_type": "code",
   "execution_count": 43,
   "metadata": {},
   "outputs": [],
   "source": [
    "def get_mean(ECoG, time):\n",
    "    mean = []\n",
    "    intens = 0\n",
    "    for j in range(len(time)):\n",
    "        intens_sum = 0\n",
    "        x, y = 0, 0\n",
    "        for i in range(64):\n",
    "            center_x, center_y = centers[i]\n",
    "            intens = abs(ECoG[j,i])\n",
    "            intens_sum += intens\n",
    "            x += center_x * intens\n",
    "            y += center_y * intens\n",
    "            \n",
    "        mean.append([x / intens_sum, y / intens_sum])\n",
    "        \n",
    "    return np.array(mean)\n",
    "\n",
    "\n",
    "def get_disp(mean, ECoG, time):\n",
    "    disp = []\n",
    "    for j in range(len(time)):\n",
    "        mean_x, mean_y = mean[j]\n",
    "        intens_sum = 0\n",
    "        disp_x, disp_y = 0, 0\n",
    "        for i in range(64):\n",
    "            center_x, center_y = centers[i]\n",
    "            intens = abs(ECoG[j, i])\n",
    "            intens_sum += intens\n",
    "            disp_x += (center_x - mean_x)**2 * intens\n",
    "            disp_y += (center_y - mean_y)**2 * intens\n",
    "\n",
    "        disp.append([disp_x / intens_sum, disp_y / intens_sum])\n",
    "    return np.array(disp)\n",
    "\n",
    "\n",
    "def get_intens(mean, disp, mv, ECoG, time):\n",
    "    intens = []\n",
    "    for j in range(len(time)):\n",
    "        mean_x, mean_y = mean[j]\n",
    "        # Adjust our mean to integer points we have in centers\n",
    "        x = int(round(mean_x))\n",
    "        y = int(round(mean_y))\n",
    "        if (x, y) in centers:\n",
    "            i = centers.index((x,y))\n",
    "        else:\n",
    "            if y<17:\n",
    "                y = y+1\n",
    "            else:\n",
    "                y = y-1\n",
    "            i = centers.index((x,y))\n",
    "        i = 0;\n",
    "        \n",
    "        pred_int = mv[j].pdf(centers[0])\n",
    "        intens.append(ECoG[j,i]/pred_int)\n",
    "    return intens"
   ]
  },
  {
   "cell_type": "code",
   "execution_count": 128,
   "metadata": {},
   "outputs": [
    {
     "name": "stderr",
     "output_type": "stream",
     "text": [
      "C:\\Users\\User\\Anaconda3\\lib\\site-packages\\sklearn\\utils\\validation.py:475: DataConversionWarning: Data with input dtype int16 was converted to float64 by StandardScaler.\n",
      "  warnings.warn(msg, DataConversionWarning)\n"
     ]
    }
   ],
   "source": [
    "#Normalize data\n",
    "\n",
    "scaler = StandardScaler()\n",
    "scaler.fit(data)\n",
    "data_n = scaler.transform(data)\n",
    "data_normed = normalize(data)"
   ]
  },
  {
   "cell_type": "markdown",
   "metadata": {},
   "source": [
    "Считаем параметры нормального распределения"
   ]
  },
  {
   "cell_type": "code",
   "execution_count": 83,
   "metadata": {},
   "outputs": [
    {
     "name": "stdout",
     "output_type": "stream",
     "text": [
      "Wall time: 15.7 s\n"
     ]
    }
   ],
   "source": [
    "%%time\n",
    "m = get_mean(data_n[:N], time[:N])\n",
    "d = get_disp(m, data_n[:N], time[:N])"
   ]
  },
  {
   "cell_type": "code",
   "execution_count": 130,
   "metadata": {},
   "outputs": [],
   "source": [
    "m_normed = get_mean(data_normed[:N], time[:N])\n",
    "d_normed = get_disp(m, data_normed[:N], time[:N])"
   ]
  },
  {
   "cell_type": "markdown",
   "metadata": {},
   "source": [
    "Восстанавливаем по параметрам $\\mu$ и $\\sigma^2$ распределение сигнала в каждый момент времени"
   ]
  },
  {
   "cell_type": "code",
   "execution_count": 135,
   "metadata": {},
   "outputs": [
    {
     "name": "stdout",
     "output_type": "stream",
     "text": [
      "Wall time: 14.2 s\n"
     ]
    }
   ],
   "source": [
    "%%time\n",
    "#Calcuate bivariate normal distribution for each moment of time\n",
    "\n",
    "mv = []\n",
    "for i in range(len(m)):\n",
    "    mv.append(multivariate_normal([m[i, 0], m[i, 1]], [[d[i,0], 0], [0, d[i, 1]]]))\n"
   ]
  },
  {
   "cell_type": "code",
   "execution_count": 137,
   "metadata": {},
   "outputs": [
    {
     "name": "stdout",
     "output_type": "stream",
     "text": [
      "Wall time: 14.7 s\n"
     ]
    }
   ],
   "source": [
    "%%time\n",
    "mv_normed = []\n",
    "for i in range(len(m_normed)):\n",
    "    mv_normed.append(multivariate_normal([m_normed[i, 0], m_normed[i, 1]], [[d_normed[i,0], 0], [0, d_normed[i, 1]]]))\n"
   ]
  },
  {
   "cell_type": "markdown",
   "metadata": {},
   "source": [
    "Считаем на всякий случай отношение реальной интенсивности сигнала  к полученному в восстановленном распределении в средней точке"
   ]
  },
  {
   "cell_type": "code",
   "execution_count": 85,
   "metadata": {},
   "outputs": [
    {
     "name": "stdout",
     "output_type": "stream",
     "text": [
      "Wall time: 2.73 s\n"
     ]
    }
   ],
   "source": [
    "%%time\n",
    "intens = get_intens(m, d, mv, data[:N], time[:N])"
   ]
  },
  {
   "cell_type": "code",
   "execution_count": null,
   "metadata": {},
   "outputs": [],
   "source": [
    "%%time\n",
    "#Calculating mae and potting local models from standardized data with fitted additionnaly with intensity with original raw data\n",
    "mae_intens = []\n",
    "for channel in range(len(centers)):\n",
    "    point = centers[channel]\n",
    "    rv = []\n",
    "    \n",
    "    for j in range(len(mv)):\n",
    "            p = mv[j].pdf(point)\n",
    "            rv.append(p*intens[j])\n",
    "    mae_intens.append(mean_absolute_error(rv, data[:N, channel]))\n",
    "    \n",
    "    fig, ax1 = plt.subplots(1,1, figsize = (14, 8))\n",
    "    color = 'tab:green'\n",
    "    ax1.set_xlabel('time (ms)', **axis_font)\n",
    "    ax1.set_ylabel('predicted', color=color, **axis_font)\n",
    "    ax1.plot(time[:N], rv, color=color, alpha = 0.5)\n",
    "    ax1.tick_params(axis='y', labelcolor=color)\n",
    "\n",
    "    ax2 = ax1.twinx()  # instantiate a second axes that shares the same x-axis\n",
    "\n",
    "    color = 'tab:blue'\n",
    "    ax2.set_ylabel('true', color=color, **axis_font) \n",
    "    ax2.plot(time[:N], data[:N, channel], color=color, alpha = 0.5)\n",
    "    ax2.tick_params(axis='y', labelcolor=color)\n",
    "\n",
    "    fig.tight_layout()  # otherwise the right y-label is slightly clipped\n",
    "    plt.title('Gauss local model for first 100000 entries \\n channel #%i' %channel , **title_font)\n",
    "    plt.savefig(r'C:\\Users\\User\\Documents\\diploma_plots\\Gauss_'+str(channel))\n",
    "    plt.close()"
   ]
  },
  {
   "cell_type": "code",
   "execution_count": 113,
   "metadata": {},
   "outputs": [],
   "source": [
    "%%time\n",
    "#Calculating mae and potting local models with standardized data\n",
    "mae_no_intens = []\n",
    "for channel in range(len(centers)):\n",
    "    point = centers[channel]\n",
    "    rv = []\n",
    "    \n",
    "    for j in range(len(mv)):\n",
    "            p = mv[j].pdf(point)\n",
    "            rv.append(p)\n",
    "    mae_no_intens.append(mean_absolute_error(rv, data_n[:N, channel]))     \n",
    "    fig, ax1 = plt.subplots(1,1, figsize = (14, 8))\n",
    "    color = 'tab:green'\n",
    "    ax1.set_xlabel('time (ms)', **axis_font)\n",
    "    ax1.set_ylabel('predicted', color=color, **axis_font)\n",
    "    ax1.plot(time[:N], rv, color=color, alpha = 0.5)\n",
    "    ax1.tick_params(axis='y', labelcolor=color)\n",
    "\n",
    "    ax2 = ax1.twinx()  # instantiate a second axes that shares the same x-axis\n",
    "\n",
    "    color = 'tab:blue'\n",
    "    ax2.set_ylabel('true', color=color, **axis_font) \n",
    "    ax2.plot(time[:N], data_n[:N, channel], color=color, alpha = 0.5)    \n",
    "    ax2.tick_params(axis='y', labelcolor=color)\n",
    "\n",
    "    fig.tight_layout()  # otherwise the right y-label is slightly clipped\n",
    "    plt.title('Gauss local model for first 100000 entries \\n channel #%i' %channel , **title_font)\n",
    "    plt.savefig(r'C:\\Users\\User\\Documents\\diploma_plots\\Gauss_no_intens'+str(channel))\n",
    "    plt.close()"
   ]
  },
  {
   "cell_type": "code",
   "execution_count": 138,
   "metadata": {},
   "outputs": [
    {
     "name": "stdout",
     "output_type": "stream",
     "text": [
      "Wall time: 2min 38s\n"
     ]
    }
   ],
   "source": [
    "%%time\n",
    "#Calculating mae and potting local models with normalized data\n",
    "mae_normed = []\n",
    "for channel in range(len(centers)):\n",
    "    point = centers[channel]\n",
    "    rv = []\n",
    "    \n",
    "    for j in range(len(mv_normed)):\n",
    "            p = mv_normed[j].pdf(point)\n",
    "            rv.append(p)\n",
    "    mae_normed.append(mean_absolute_error(rv, data_normed[:N, channel]))     \n",
    "    fig, ax1 = plt.subplots(1,1, figsize = (14, 8))\n",
    "    color = 'tab:green'\n",
    "    ax1.set_xlabel('time (ms)', **axis_font)\n",
    "    ax1.set_ylabel('predicted', color=color, **axis_font)\n",
    "    ax1.plot(time[:N], rv, color=color, alpha = 0.5)\n",
    "    ax1.tick_params(axis='y', labelcolor=color)\n",
    "\n",
    "    ax2 = ax1.twinx()  # instantiate a second axes that shares the same x-axis\n",
    "\n",
    "    color = 'tab:blue'\n",
    "    ax2.set_ylabel('true', color=color, **axis_font) \n",
    "    ax2.plot(time[:N], data_normed[:N, channel], color=color, alpha = 0.5)    \n",
    "    ax2.tick_params(axis='y', labelcolor=color)\n",
    "\n",
    "    fig.tight_layout()  # otherwise the right y-label is slightly clipped\n",
    "    plt.title('Gauss local model for first 100000 entries \\n channel #%i' %channel , **title_font)\n",
    "    plt.savefig(r'C:\\Users\\User\\Documents\\diploma_plots\\Gauss_normed'+str(channel))\n",
    "    plt.close()"
   ]
  },
  {
   "cell_type": "code",
   "execution_count": 107,
   "metadata": {},
   "outputs": [
    {
     "data": {
      "text/plain": [
       "0.5654385746288237"
      ]
     },
     "execution_count": 107,
     "metadata": {},
     "output_type": "execute_result"
    }
   ],
   "source": [
    "mean_absolute_error(rv, data_n[:N, channel])"
   ]
  },
  {
   "cell_type": "code",
   "execution_count": 116,
   "metadata": {},
   "outputs": [
    {
     "data": {
      "text/plain": [
       "668.9705082827852"
      ]
     },
     "execution_count": 116,
     "metadata": {},
     "output_type": "execute_result"
    }
   ],
   "source": [
    "np.array(mae_intens).mean()"
   ]
  },
  {
   "cell_type": "code",
   "execution_count": 109,
   "metadata": {},
   "outputs": [],
   "source": [
    "mae_no_intens = []\n",
    "#mae = []\n",
    "for channel in range(len(centers)):\n",
    "    point = centers[channel]\n",
    "    rv = []\n",
    "    \n",
    "    for j in range(len(mv)):\n",
    "            p = mv[j].pdf(point)\n",
    "            rv.append(p)   \n",
    "    mae_no_intens.append(mean_absolute_error(rv, data_n[:N, channel]))"
   ]
  },
  {
   "cell_type": "code",
   "execution_count": 117,
   "metadata": {},
   "outputs": [
    {
     "data": {
      "text/plain": [
       "0.5330008503539042"
      ]
     },
     "execution_count": 117,
     "metadata": {},
     "output_type": "execute_result"
    }
   ],
   "source": [
    "np.array(mae_no_intens).mean()"
   ]
  },
  {
   "cell_type": "markdown",
   "metadata": {},
   "source": [
    "Рассмотреть движение"
   ]
  },
  {
   "cell_type": "markdown",
   "metadata": {},
   "source": [
    "### Gamma hypothesys"
   ]
  },
  {
   "cell_type": "code",
   "execution_count": 151,
   "metadata": {},
   "outputs": [
    {
     "data": {
      "image/png": "[encoded data removed]",
      "text/plain": [
       "<Figure size 1008x360 with 2 Axes>"
      ]
     },
     "metadata": {},
     "output_type": "display_data"
    }
   ],
   "source": [
    "for channel in range(1):\n",
    "    #point = centers[channel]\n",
    "    g_d = []\n",
    "    for j in range(len(m)):\n",
    "        p = wishart.pdf(point, 2, [[m[j, 0], 0], [0, m[j, 1]]])\n",
    "        g_d.append(p*intens[j])\n",
    "    \n",
    "    fig, ax1 = plt.subplots(1,1, figsize = (14, 5))\n",
    "    color = 'tab:green'\n",
    "    ax1.set_xlabel('time (ms)', **axis_font)\n",
    "    ax1.set_ylabel('predicted', color=color, **axis_font)\n",
    "    ax1.plot(time[:N], (np.array(g_d)[:N]), color='green', alpha = 0.5)\n",
    "    #ax1.plot(time[20000:40000], (np.array(g_d)[20000:40000]), color='green', alpha = 0.5)\n",
    "    ax1.tick_params(axis='y', labelcolor=color)\n",
    "\n",
    "    ax2 = ax1.twinx()  # instantiate a second axes that shares the same x-axis\n",
    "\n",
    "    color = 'tab:blue'\n",
    "    ax2.set_ylabel('true', color=color, **axis_font) \n",
    "    ax2.plot(time[:N], (data_n[:N, channel]), color='blue', alpha = 0.5)\n",
    "    #ax2.plot(time[20000:40000], (data[20000:40000, channel]), color='blue', alpha = 0.5)\n",
    "    ax2.tick_params(axis='y', labelcolor=color)\n",
    "\n",
    "    fig.tight_layout()  # otherwise the right y-label is slightly clipped\n",
    "      \n",
    "    plt.title('Intens local model for first %i entries \\n' %N , **title_font)\n",
    "    \n",
    "    plt.show()"
   ]
  },
  {
   "cell_type": "markdown",
   "metadata": {},
   "source": [
    "Непосредственно восстановить ECoG пданными локальными моделями нам не удастся. Однако, посмотрим на ключевую задачу: сокращение признакового пространства. Можем ли мы сократить кол-во признаков сырых данных с 64 до 5, то есть в восемь раз? Если сравнивать наши результаты и результаты Мотренко, то размерность пространства сокращается с $F\\times N \\times T$ до $5 \\times T$, то есть в $\\frac{F \\times N}{5}$ раз. Учитывая, что частотных диапазонов 15 (ссылка на код мотренко), то снижение размерности составляет в 320 раз."
   ]
  },
  {
   "cell_type": "markdown",
   "metadata": {},
   "source": [
    "Рассмотрим предсказание движения."
   ]
  },
  {
   "cell_type": "code",
   "execution_count": 145,
   "metadata": {},
   "outputs": [],
   "source": [
    "ECoG, LSHO, LELB, LWRI, RSHO, RELB, RWRI, time, motion_time =  get_ecog_and_motions(path_name_train)\n",
    "x, y = extract_needed_data(ECoG, LSHO, LELB, LWRI, RSHO, RELB, RWRI, time, motion_time)"
   ]
  },
  {
   "cell_type": "code",
   "execution_count": 149,
   "metadata": {},
   "outputs": [
    {
     "ename": "MemoryError",
     "evalue": "",
     "output_type": "error",
     "traceback": [
      "\u001b[1;31m---------------------------------------------------------------------------\u001b[0m",
      "\u001b[1;31mMemoryError\u001b[0m                               Traceback (most recent call last)",
      "\u001b[1;32m<ipython-input-149-cf4afe1e0517>\u001b[0m in \u001b[0;36m<module>\u001b[1;34m()\u001b[0m\n\u001b[1;32m----> 1\u001b[1;33m \u001b[0msignal_data\u001b[0m \u001b[1;33m=\u001b[0m \u001b[0mnp\u001b[0m\u001b[1;33m.\u001b[0m\u001b[0mc_\u001b[0m\u001b[1;33m[\u001b[0m\u001b[0mtime\u001b[0m\u001b[1;33m,\u001b[0m \u001b[0mx\u001b[0m\u001b[1;33m]\u001b[0m\u001b[1;33m\u001b[0m\u001b[0m\n\u001b[0m\u001b[0;32m      2\u001b[0m \u001b[0mmotion_data\u001b[0m \u001b[1;33m=\u001b[0m \u001b[0mnp\u001b[0m\u001b[1;33m.\u001b[0m\u001b[0mc_\u001b[0m\u001b[1;33m[\u001b[0m\u001b[0mmotion_time\u001b[0m\u001b[1;33m,\u001b[0m \u001b[0my\u001b[0m\u001b[1;33m]\u001b[0m\u001b[1;33m\u001b[0m\u001b[0m\n",
      "\u001b[1;32m~\\Anaconda3\\lib\\site-packages\\numpy\\lib\\index_tricks.py\u001b[0m in \u001b[0;36m__getitem__\u001b[1;34m(self, key)\u001b[0m\n\u001b[0;32m    402\u001b[0m                 \u001b[0mobjs\u001b[0m\u001b[1;33m[\u001b[0m\u001b[0mk\u001b[0m\u001b[1;33m]\u001b[0m \u001b[1;33m=\u001b[0m \u001b[0mobjs\u001b[0m\u001b[1;33m[\u001b[0m\u001b[0mk\u001b[0m\u001b[1;33m]\u001b[0m\u001b[1;33m.\u001b[0m\u001b[0mastype\u001b[0m\u001b[1;33m(\u001b[0m\u001b[0mfinal_dtype\u001b[0m\u001b[1;33m)\u001b[0m\u001b[1;33m\u001b[0m\u001b[0m\n\u001b[0;32m    403\u001b[0m \u001b[1;33m\u001b[0m\u001b[0m\n\u001b[1;32m--> 404\u001b[1;33m         \u001b[0mres\u001b[0m \u001b[1;33m=\u001b[0m \u001b[0mself\u001b[0m\u001b[1;33m.\u001b[0m\u001b[0mconcatenate\u001b[0m\u001b[1;33m(\u001b[0m\u001b[0mtuple\u001b[0m\u001b[1;33m(\u001b[0m\u001b[0mobjs\u001b[0m\u001b[1;33m)\u001b[0m\u001b[1;33m,\u001b[0m \u001b[0maxis\u001b[0m\u001b[1;33m=\u001b[0m\u001b[0maxis\u001b[0m\u001b[1;33m)\u001b[0m\u001b[1;33m\u001b[0m\u001b[0m\n\u001b[0m\u001b[0;32m    405\u001b[0m \u001b[1;33m\u001b[0m\u001b[0m\n\u001b[0;32m    406\u001b[0m         \u001b[1;32mif\u001b[0m \u001b[0mmatrix\u001b[0m\u001b[1;33m:\u001b[0m\u001b[1;33m\u001b[0m\u001b[0m\n",
      "\u001b[1;31mMemoryError\u001b[0m: "
     ]
    }
   ],
   "source": [
    "signal_data = np.c_[time, x]\n",
    "motion_data = np.c_[motion_time, y]"
   ]
  },
  {
   "cell_type": "code",
   "execution_count": null,
   "metadata": {},
   "outputs": [],
   "source": [
    "ecog_signal, motion, time = synchronize_interpol(signal_data, motion_data)"
   ]
  },
  {
   "cell_type": "code",
   "execution_count": 150,
   "metadata": {},
   "outputs": [
    {
     "ename": "NameError",
     "evalue": "name 'ecog_signal' is not defined",
     "output_type": "error",
     "traceback": [
      "\u001b[1;31m---------------------------------------------------------------------------\u001b[0m",
      "\u001b[1;31mNameError\u001b[0m                                 Traceback (most recent call last)",
      "\u001b[1;32m<ipython-input-150-3a6d21e21a67>\u001b[0m in \u001b[0;36m<module>\u001b[1;34m()\u001b[0m\n\u001b[0;32m      1\u001b[0m \u001b[0mscaler\u001b[0m \u001b[1;33m=\u001b[0m \u001b[0mStandardScaler\u001b[0m\u001b[1;33m(\u001b[0m\u001b[1;33m)\u001b[0m\u001b[1;33m\u001b[0m\u001b[0m\n\u001b[1;32m----> 2\u001b[1;33m \u001b[0mscaler\u001b[0m\u001b[1;33m.\u001b[0m\u001b[0mfit\u001b[0m\u001b[1;33m(\u001b[0m\u001b[0mecog_signal\u001b[0m\u001b[1;33m)\u001b[0m\u001b[1;33m\u001b[0m\u001b[0m\n\u001b[0m\u001b[0;32m      3\u001b[0m \u001b[0mdata_n\u001b[0m \u001b[1;33m=\u001b[0m \u001b[0mscaler\u001b[0m\u001b[1;33m.\u001b[0m\u001b[0mtransform\u001b[0m\u001b[1;33m(\u001b[0m\u001b[0mecog_signal\u001b[0m\u001b[1;33m)\u001b[0m\u001b[1;33m\u001b[0m\u001b[0m\n\u001b[0;32m      4\u001b[0m \u001b[0mm\u001b[0m \u001b[1;33m=\u001b[0m \u001b[0mget_mean\u001b[0m\u001b[1;33m(\u001b[0m\u001b[0mdata_n\u001b[0m\u001b[1;33m[\u001b[0m\u001b[1;33m:\u001b[0m\u001b[0mN\u001b[0m\u001b[1;33m]\u001b[0m\u001b[1;33m,\u001b[0m \u001b[0mtime\u001b[0m\u001b[1;33m[\u001b[0m\u001b[1;33m:\u001b[0m\u001b[0mN\u001b[0m\u001b[1;33m]\u001b[0m\u001b[1;33m)\u001b[0m\u001b[1;33m\u001b[0m\u001b[0m\n\u001b[0;32m      5\u001b[0m \u001b[0md\u001b[0m \u001b[1;33m=\u001b[0m \u001b[0mget_disp\u001b[0m\u001b[1;33m(\u001b[0m\u001b[0mm\u001b[0m\u001b[1;33m,\u001b[0m \u001b[0mdata_n\u001b[0m\u001b[1;33m[\u001b[0m\u001b[1;33m:\u001b[0m\u001b[0mN\u001b[0m\u001b[1;33m]\u001b[0m\u001b[1;33m,\u001b[0m \u001b[0mtime\u001b[0m\u001b[1;33m[\u001b[0m\u001b[1;33m:\u001b[0m\u001b[0mN\u001b[0m\u001b[1;33m]\u001b[0m\u001b[1;33m)\u001b[0m\u001b[1;33m\u001b[0m\u001b[0m\n",
      "\u001b[1;31mNameError\u001b[0m: name 'ecog_signal' is not defined"
     ]
    }
   ],
   "source": [
    "scaler = StandardScaler()\n",
    "scaler.fit(ecog_signal)\n",
    "data_n = scaler.transform(ecog_signal)\n",
    "m = get_mean(data_n[:N], time[:N])\n",
    "d = get_disp(m, data_n[:N], time[:N])\n",
    "intens = get_intens(m, d, mv, data[:N], time[:N])"
   ]
  },
  {
   "cell_type": "code",
   "execution_count": null,
   "metadata": {},
   "outputs": [],
   "source": [
    "X = np.c_[m, d, intens]"
   ]
  },
  {
   "cell_type": "code",
   "execution_count": null,
   "metadata": {},
   "outputs": [],
   "source": [
    "model = PLSRegression(n_components = 50)\n",
    "model.fit(X,motion)\n",
    "Y_pred = model.predict(X)\n"
   ]
  },
  {
   "cell_type": "code",
   "execution_count": null,
   "metadata": {},
   "outputs": [],
   "source": [
    "plt.figure(figsize = (15,6))\n",
    "plt.plot(time,Y_pred[:,0])\n",
    "plt.plot(time,motion[10000:,0])"
   ]
  },
  {
   "cell_type": "code",
   "execution_count": null,
   "metadata": {},
   "outputs": [],
   "source": [
    "r2score(motion[10000:], Y_pred)"
   ]
  }
 ],
 "metadata": {
  "kernelspec": {
   "display_name": "Python 3",
   "language": "python",
   "name": "python3"
  },
  "language_info": {
   "codemirror_mode": {
    "name": "ipython",
    "version": 3
   },
   "file_extension": ".py",
   "mimetype": "text/x-python",
   "name": "python",
   "nbconvert_exporter": "python",
   "pygments_lexer": "ipython3",
   "version": "3.6.5"
  }
 },
 "nbformat": 4,
 "nbformat_minor": 2
}
