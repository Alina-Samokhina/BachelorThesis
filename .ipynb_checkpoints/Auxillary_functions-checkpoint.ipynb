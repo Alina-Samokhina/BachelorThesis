{
 "cells": [
  {
   "cell_type": "code",
   "execution_count": 6,
   "metadata": {},
   "outputs": [],
   "source": [
    "import os.path\n",
    "import glob\n",
    "\n",
    "import numpy as np\n",
    "import pandas as pd\n",
    "\n",
    "from io import BytesIO\n",
    "from matplotlib import pyplot as plt\n",
    "\n",
    "\n",
    "from scipy.io import loadmat\n",
    "from scipy.interpolate import interp1d\n",
    "from scipy import signal\n",
    "from scipy.signal import butter, sosfilt\n",
    "\n",
    "from scipy.stats import multivariate_normal\n",
    "from scipy.stats import gamma\n",
    "from scipy.stats import wishart\n",
    "\n",
    "\n",
    "from sklearn.model_selection import train_test_split\n",
    "from sklearn.preprocessing import normalize\n",
    "from sklearn.preprocessing import StandardScaler\n",
    "\n",
    "from sklearn.cross_decomposition import PLSRegression\n",
    "from sklearn.linear_model import LinearRegression\n",
    "\n",
    "from sklearn.metrics import mean_absolute_error\n",
    "from sklearn.metrics import mean_squared_error\n",
    "from sklearn.metrics import r2_score"
   ]
  },
  {
   "cell_type": "code",
   "execution_count": null,
   "metadata": {},
   "outputs": [],
   "source": [
    "centers = [(4,1), (6, 1), (8,1),\\\n",
    "           (3, 2), (5, 2), (7,2),\\\n",
    "           (2, 3), (4, 3), (6, 3), (8,3),\\\n",
    "           (1, 4), (3, 4), (5, 4), (7, 4),\\\n",
    "           (2, 5), (4, 5), (6, 5), \\\n",
    "           (1, 6), (3, 6), (5, 6), (7, 6),\\\n",
    "           (2, 7), (4, 7), (6, 7), (8, 7),\\\n",
    "           (1, 8), (3, 8), (5, 8), (7, 8),\\\n",
    "           (2, 9), (4, 9), (6, 9), (8, 9),\\\n",
    "           (1, 10), (3, 10), (5, 10), (7, 10),\\\n",
    "           (2, 11), (4, 11), (6, 11), (8, 11),\\\n",
    "           (1, 12), (3, 12), (5, 12), (7, 12),\\\n",
    "           (2, 13), (4, 13), (6, 13), (8, 13),\\\n",
    "           (1, 14), (3, 14), (5, 14), (7, 14),\\\n",
    "           (2, 15), (4, 15), (6, 15), (8, 15),\\\n",
    "           (1, 16), (3, 16), (5, 16), (7, 16),\\\n",
    "           (2, 17), (4, 17), (6, 17)]"
   ]
  },
  {
   "cell_type": "code",
   "execution_count": 8,
   "metadata": {},
   "outputs": [],
   "source": [
    "title_font = {'family':'Arial', 'size': 20, 'color':'black', 'weight':'normal',\n",
    "              'verticalalignment':'bottom'} # Bottom vertical alignment for more space\n",
    "axis_font = {'family':'Arial', 'size': 16}\n"
   ]
  },
  {
   "cell_type": "code",
   "execution_count": 9,
   "metadata": {},
   "outputs": [],
   "source": [
    "path_name_train = 'Data\\\\20100802S1_ECoG_Motion6'\n",
    "path_name_test = 'Data\\\\20100726S1_ECoG_Motion6'"
   ]
  },
  {
   "cell_type": "code",
   "execution_count": 2,
   "metadata": {},
   "outputs": [],
   "source": [
    "def synchronize_simple(signal_data, motion_data): \n",
    "       \n",
    "    time, signal_idx, motion_idx = np.intersect1d(signal_data[:,0], motion_data[:,0],assume_unique=True, return_indices=True)\n",
    "    ecog_signal = signal_data[signal_idx]\n",
    "    motion = motion_data[motion_idx]\n",
    "\n",
    "    return ecog_signal, motion, time"
   ]
  },
  {
   "cell_type": "code",
   "execution_count": 14,
   "metadata": {},
   "outputs": [],
   "source": [
    "def synchronize_interpol(signal_data, motion_data): \n",
    "    start = max(signal_data[1, 0],motion_data[1,0])\n",
    "    end = min(signal_data[-1, 0],motion_data[-1,0])\n",
    "\n",
    "    #cutting signal and motion, only overlapping time left\n",
    "    signal_data = signal_data[:,:][(signal_data[:,0]>=start)]\n",
    "    signal_data = signal_data[:,:][(signal_data[:,0]<=end)]\n",
    "    motion_data = motion_data[:,:][motion_data[:,0]>= start] \n",
    "    motion_data = motion_data[:,:][motion_data[:,0]<= end]\n",
    "    M = []\n",
    "    #signal and motion have different time stamps, we need to synchronise them\n",
    "    #interpolating motion and calculating arm position in moments of \"signal time\"\n",
    "    for i in range(1,motion_data.shape[1]):\n",
    "        interpol = interp1d(motion_data[:,0],motion_data[:,i],kind=\"cubic\")\n",
    "        x = interpol(signal_data[:,0])\n",
    "        M.append(x)\n",
    "\n",
    "    #downsampling in 10 times to get faster calcultions\n",
    "\n",
    "    ecog_signal = signal_data[::10,1:]\n",
    "    motion = np.array(M).T[::10,:]\n",
    "    time = signal_data[::10,0]\n",
    "    \n",
    "    \n",
    "    #self.signal = signal_data[:,1:]\n",
    "    #self.motion = np.array(M).T[:,:]\n",
    "    #self.time = signal_data[:,0]\n",
    "\n",
    "    return ecog_signal, motion, time"
   ]
  },
  {
   "cell_type": "code",
   "execution_count": 15,
   "metadata": {},
   "outputs": [],
   "source": [
    "#signal filtering (not sure that it works correctly)\n",
    "def bandpass_filter(ecog_signal, lowcut, highcut, fs = 100, order=7):\n",
    "    nyq =  fs\n",
    "    low = lowcut / nyq\n",
    "    high = highcut / nyq\n",
    "    sos = signal.butter(order,  (low, high), btype='band',analog=False,output='sos')\n",
    "    filtered_signal = np.array([sosfilt(sos, ecog_signal[:,i]) for i in range(ecog_signal.shape[1])])\n",
    "\n",
    "    return filtered_signal.T"
   ]
  },
  {
   "cell_type": "code",
   "execution_count": 16,
   "metadata": {},
   "outputs": [],
   "source": [
    " #Generating a scalogram by wavelet transformation \n",
    "def scalo(ecog_signal, motion, time, window, freqs,start,end, step = 100): #window in sec,freqs in Hz, step in ms\n",
    "    #div = 1\n",
    "    X = ecog_signal[start:end,:]\n",
    "    div = 10 #downsampling\n",
    "    window_len = int(((window * 1000 // step) + 2) * step//div)\n",
    "    scalo = np.empty((X.shape[0]-window_len,X.shape[1],freqs.shape[0],(window * 1000 // step) + 2))\n",
    "    for i in range(X.shape[1]):\n",
    "        for j in range(window_len,X.shape[0]):\n",
    "            scalo[j-window_len,i,:,:] = signal.cwt(data = X[j-window_len:j,i],\n",
    "                                                    wavelet=signal.morlet,widths = freqs)[:,::step//div] **2\n",
    "    return scalo, motion[start+window_len:end,:], time[start+window_len:end]\n",
    "    "
   ]
  },
  {
   "cell_type": "code",
   "execution_count": 30,
   "metadata": {},
   "outputs": [],
   "source": [
    "def get_mean(ECoG, time):\n",
    "    mean = []\n",
    "    intens = 0\n",
    "    for j in range(len(time)):\n",
    "        intens_sum = 0\n",
    "        x, y = 0, 0\n",
    "        for i in range(64):\n",
    "            center_x, center_y = centers[i]\n",
    "            intens = abs(ECoG[j,i])\n",
    "            intens_sum += intens\n",
    "            x += center_x * intens\n",
    "            y += center_y * intens\n",
    "            \n",
    "        mean.append([x / intens_sum, y / intens_sum])\n",
    "        \n",
    "    return np.array(mean)"
   ]
  },
  {
   "cell_type": "code",
   "execution_count": 27,
   "metadata": {},
   "outputs": [],
   "source": [
    "\n",
    "def get_disp(mean, ECoG, time):\n",
    "    disp = []\n",
    "    for j in range(len(time)):\n",
    "        mean_x, mean_y = mean[j]\n",
    "        intens_sum = 0\n",
    "        disp_x, disp_y = 0, 0\n",
    "        for i in range(64):\n",
    "            center_x, center_y = centers[i]\n",
    "            intens = abs(ECoG[j, i])\n",
    "            intens_sum += intens\n",
    "            disp_x += (center_x - mean_x)**2 * intens\n",
    "            disp_y += (center_y - mean_y)**2 * intens\n",
    "\n",
    "        disp.append([disp_x / intens_sum, disp_y / intens_sum])\n",
    "    return np.array(disp)"
   ]
  },
  {
   "cell_type": "code",
   "execution_count": 29,
   "metadata": {},
   "outputs": [],
   "source": [
    "def get_intens(mean, disp, mv, ECoG, time):\n",
    "    intens = []\n",
    "    for j in range(len(time)):\n",
    "        mean_x, mean_y = mean[j]\n",
    "        # Adjust our mean to integer points we have in centers\n",
    "        x = int(round(mean_x))\n",
    "        y = int(round(mean_y))\n",
    "        if (x, y) in centers:\n",
    "            i = centers.index((x,y))\n",
    "        else:\n",
    "            if y<17:\n",
    "                y = y+1\n",
    "            else:\n",
    "                y = y-1\n",
    "            i = centers.index((x,y))\n",
    "        i = 0;\n",
    "        \n",
    "        pred_int = mv[j].pdf(centers[0])\n",
    "        intens.append(ECoG[j,i]/pred_int)\n",
    "    return intens"
   ]
  },
  {
   "cell_type": "code",
   "execution_count": 25,
   "metadata": {},
   "outputs": [],
   "source": [
    "def plot_ecog(time, ecog):\n",
    "    plt.figure(figsize=(14,6))\n",
    "    plt.plot(time, ecog[:,0])\n",
    "    plt.xticks( fontsize=14, rotation=0)\n",
    "    plt.yticks(fontsize=14, rotation=0)\n",
    "    plt.title('Канал #1', **title_font)\n",
    "    plt.xlabel('Время, мс', **axis_font)\n",
    "    plt.ylabel('Напряжение, мВ', **axis_font)\n",
    "    plt.grid(True)\n",
    "    plt.show()\n",
    "    plt.close()"
   ]
  },
  {
   "cell_type": "code",
   "execution_count": null,
   "metadata": {},
   "outputs": [],
   "source": []
  },
  {
   "cell_type": "code",
   "execution_count": null,
   "metadata": {},
   "outputs": [],
   "source": []
  }
 ],
 "metadata": {
  "kernelspec": {
   "display_name": "Python 3",
   "language": "python",
   "name": "python3"
  },
  "language_info": {
   "codemirror_mode": {
    "name": "ipython",
    "version": 3
   },
   "file_extension": ".py",
   "mimetype": "text/x-python",
   "name": "python",
   "nbconvert_exporter": "python",
   "pygments_lexer": "ipython3",
   "version": "3.6.5"
  }
 },
 "nbformat": 4,
 "nbformat_minor": 2
}
